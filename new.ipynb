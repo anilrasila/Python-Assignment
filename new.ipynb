{
 "cells": [
  {
   "cell_type": "markdown",
   "id": "eea6fe44",
   "metadata": {},
   "source": [
    "# #ASSIGNMENT NO 01:\n",
    "\n",
    "\n",
    "1. In the below elements which of them are values or an expression? eg:- values can be integer or string and expressions will be mathematical operators.\n",
    "\n",
    "*       -----  Expression\n",
    "'hello' -----  Values\n",
    "-87.8   -----  Values\n",
    "-       -----  Expression\n",
    "/       -----  Expression\n",
    "+       -----  Expression\n",
    "6       -----  Values\n",
    "\n",
    "2. What is the difference between string and variable?\n",
    "A Variable is a store of information, and a String is a type of information you would store in a Variable.\n",
    "ex = variable = A \n",
    "& string ='anil'\n",
    "\n",
    "\n",
    "3. Describe three different data types.\n",
    "Integer: Whole numbers , can be from -a to +a. Ex -1,-4,10,500 etc\n",
    "Float: the numbers which are in decimals.Ex=1.5, 5.0005 etc\n",
    "Boolean: Boolean datatype contain True or False\n",
    "\n",
    "\n",
    "4. What is an expression made up of? What do all expressions do?\n",
    "An expression is a combination of operators and operands that is interpreted to produce some other value. In any programming language, an expression is evaluated as per the precedence of its operators.\n",
    "\n",
    "\n",
    "5. This assignment statements, like spam = 10. What is the difference between an expression and a statement?\n",
    "An expression evaluates to a single value. A statement does not.\n",
    "\n",
    "\n",
    "6. After running the following code, what does the variable bacon contain?\n",
    "bacon = 22\n",
    "bacon + 1\n",
    "Ans = 23\n",
    "\n",
    "\n",
    "\n",
    "7. What should the values of the following two terms be?\n",
    "'spam' +'spamspam' = spamspamspam\n",
    "'spam' * 3 = spamspamspam\n",
    "\n",
    "\n",
    "8. Why is eggs a valid variable name while 100 is invalid?\n",
    "Because variable names cannot begin with a number.\n",
    "\n",
    "\n",
    "9. What three functions can be used to get the integer, floating-point number, or string version of a value?\n",
    "int() , float() , and str( ) \n",
    "\n",
    "\n",
    "10. Why does this expression cause an error? How can you fix it?\n",
    "'I have eaten' + 99 + 'burritos'.\n",
    "Because It can only concatenate str. \n",
    "So, We have to make 99 as a string (i.e ='99') \n",
    "Ans is: I have eaten 99 burritos"
   ]
  },
  {
   "cell_type": "markdown",
   "id": "0bc194d0",
   "metadata": {},
   "source": [
    "## 1. In the below elements which of them are values or an expression? eg:- values can be integer or string and expressions will be mathematical operators."
   ]
  },
  {
   "cell_type": "code",
   "execution_count": null,
   "id": "3b69d509",
   "metadata": {},
   "outputs": [],
   "source": [
    "*       -----  Expression\n",
    "'hello' -----  Values\n",
    "-87.8   -----  Values\n",
    "-       -----  Expression\n",
    "/       -----  Expression\n",
    "+       -----  Expression\n",
    "6       -----  Values"
   ]
  },
  {
   "cell_type": "markdown",
   "id": "35410c86",
   "metadata": {},
   "source": [
    "## 2.What is the difference between string and variable? A Variable is a store of information, and a String is a type of information you would store in a Variable."
   ]
  },
  {
   "cell_type": "code",
   "execution_count": null,
   "id": "59b8779d",
   "metadata": {},
   "outputs": [],
   "source": [
    "A Variable is a store of information, and a String is a type of information you would store in a Variable.\n",
    "ex = variable = A \n",
    "& string ='anil'\n"
   ]
  },
  {
   "cell_type": "markdown",
   "id": "0541d313",
   "metadata": {},
   "source": [
    "## 3. Describe three different data types?"
   ]
  },
  {
   "cell_type": "code",
   "execution_count": null,
   "id": "f470fe6b",
   "metadata": {},
   "outputs": [],
   "source": [
    "Integer: Whole numbers , can be from -a to +a. Ex -1,-4,10,500 etc\n",
    "Float: the numbers which are in decimals.Ex=1.5, 5.0005 etc\n",
    "Boolean: Boolean datatype contain True or False"
   ]
  },
  {
   "cell_type": "markdown",
   "id": "8e0c0411",
   "metadata": {},
   "source": [
    "## 4. What is an expression made up of? What do all expressions do?"
   ]
  },
  {
   "cell_type": "code",
   "execution_count": null,
   "id": "4005fec6",
   "metadata": {},
   "outputs": [],
   "source": [
    "An expression is a combination of operators and operands that is interpreted to produce some other value.In any programming language, an expression is evaluated as per the precedence of its operators."
   ]
  },
  {
   "cell_type": "code",
   "execution_count": null,
   "id": "5ca9030d",
   "metadata": {},
   "outputs": [],
   "source": []
  }
 ],
 "metadata": {
  "kernelspec": {
   "display_name": "Python 3 (ipykernel)",
   "language": "python",
   "name": "python3"
  },
  "language_info": {
   "codemirror_mode": {
    "name": "ipython",
    "version": 3
   },
   "file_extension": ".py",
   "mimetype": "text/x-python",
   "name": "python",
   "nbconvert_exporter": "python",
   "pygments_lexer": "ipython3",
   "version": "3.9.7"
  }
 },
 "nbformat": 4,
 "nbformat_minor": 5
}
