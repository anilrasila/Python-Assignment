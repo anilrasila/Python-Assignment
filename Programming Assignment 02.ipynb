{
 "cells": [
  {
   "cell_type": "markdown",
   "id": "f9fc5000",
   "metadata": {},
   "source": [
    "# Programming Assignment 02:"
   ]
  },
  {
   "cell_type": "markdown",
   "id": "b021c392",
   "metadata": {},
   "source": [
    "## 1. Write a Python program to convert kilometers to miles?"
   ]
  },
  {
   "cell_type": "code",
   "execution_count": 30,
   "id": "a7f459b4",
   "metadata": {},
   "outputs": [
    {
     "name": "stdout",
     "output_type": "stream",
     "text": [
      "Enter the value in (km) : 1\n",
      "The value in (miles) is : 1.60934\n"
     ]
    }
   ],
   "source": [
    "km = int(input(\"Enter the value in (km) : \"))\n",
    "#1 mile = 1.60934\n",
    "\n",
    "mi = 1.60934*km\n",
    "print(\"The value in (miles) is :\"  , mi)\n"
   ]
  },
  {
   "cell_type": "markdown",
   "id": "2fddc13f",
   "metadata": {},
   "source": [
    "## 2. Write a Python program to convert Celsius to Fahrenheit?"
   ]
  },
  {
   "cell_type": "code",
   "execution_count": 13,
   "id": "b44514c0",
   "metadata": {},
   "outputs": [
    {
     "name": "stdout",
     "output_type": "stream",
     "text": [
      "Enter the value in celcius is :37\n",
      "The value in farhenheit is : 98.60000000000001\n"
     ]
    }
   ],
   "source": [
    "C = int(input(\"Enter the value in celcius is :\"))\n",
    "\n",
    "\n",
    "#C = (F - 32) * (5/9)\n",
    "F = ((9/5)*C) + 32\n",
    "print(\"The value in farhenheit is :\" , F)\n"
   ]
  },
  {
   "cell_type": "markdown",
   "id": "75797d1f",
   "metadata": {},
   "source": [
    "## 3. Write a Python program to display calendar?"
   ]
  },
  {
   "cell_type": "code",
   "execution_count": 31,
   "id": "5812d1eb",
   "metadata": {},
   "outputs": [
    {
     "name": "stdout",
     "output_type": "stream",
     "text": [
      "Enter the Year : 2022\n",
      "Enter the Month : 09\n",
      "   September 2022\n",
      "Mo Tu We Th Fr Sa Su\n",
      "          1  2  3  4\n",
      " 5  6  7  8  9 10 11\n",
      "12 13 14 15 16 17 18\n",
      "19 20 21 22 23 24 25\n",
      "26 27 28 29 30\n",
      "\n"
     ]
    }
   ],
   "source": [
    "import calendar\n",
    "Year = int(input(\"Enter the Year : \"))\n",
    "Month = int(input(\"Enter the Month : \"))\n",
    "\n",
    "print(calendar.month(Year,Month))"
   ]
  },
  {
   "cell_type": "markdown",
   "id": "0e485c2b",
   "metadata": {},
   "source": [
    "## 4. Write a Python program to solve quadratic equation?"
   ]
  },
  {
   "cell_type": "code",
   "execution_count": 21,
   "id": "4da0effc",
   "metadata": {},
   "outputs": [
    {
     "name": "stdout",
     "output_type": "stream",
     "text": [
      "enter the value : 2\n",
      "enter the value : 3\n",
      "enter the value : 4\n",
      "The solution are (-0.75-1.1989578808281798j) and (-0.75+1.1989578808281798j)\n"
     ]
    }
   ],
   "source": [
    "import cmath\n",
    "\n",
    "a = int(input(\"enter the value : \"))\n",
    "b = int(input(\"enter the value : \"))\n",
    "c = int(input(\"enter the value : \"))\n",
    "\n",
    "# calculate the discriminant\n",
    "d = (b**2) - (4*a*c)\n",
    "\n",
    "# find two solutions\n",
    "x1 = (-b-cmath.sqrt(d))/(2*a)\n",
    "x2 = (-b+cmath.sqrt(d))/(2*a)\n",
    "\n",
    "print('The solution are {0} and {1}'.format(x1,x2))"
   ]
  },
  {
   "cell_type": "markdown",
   "id": "c607a056",
   "metadata": {},
   "source": [
    "## 5. Write a Python program to swap two variables without temp variable?"
   ]
  },
  {
   "cell_type": "code",
   "execution_count": 28,
   "id": "24b523d7",
   "metadata": {},
   "outputs": [
    {
     "name": "stdout",
     "output_type": "stream",
     "text": [
      "enter the value : 3\n",
      "enter the value : 4\n",
      "The value of swaped variable is :  4 3\n"
     ]
    }
   ],
   "source": [
    "x = int(input(\"enter the value : \"))\n",
    "y = int(input(\"enter the value : \"))\n",
    "\n",
    "x,y = y,x\n",
    "\n",
    "print(\"The value of swaped variable is : \",x,y)"
   ]
  },
  {
   "cell_type": "code",
   "execution_count": null,
   "id": "371ba050",
   "metadata": {},
   "outputs": [],
   "source": []
  }
 ],
 "metadata": {
  "kernelspec": {
   "display_name": "Python 3 (ipykernel)",
   "language": "python",
   "name": "python3"
  },
  "language_info": {
   "codemirror_mode": {
    "name": "ipython",
    "version": 3
   },
   "file_extension": ".py",
   "mimetype": "text/x-python",
   "name": "python",
   "nbconvert_exporter": "python",
   "pygments_lexer": "ipython3",
   "version": "3.9.7"
  }
 },
 "nbformat": 4,
 "nbformat_minor": 5
}
