{
 "cells": [
  {
   "cell_type": "markdown",
   "id": "4ca20d72",
   "metadata": {},
   "source": [
    "# ASSIGNMENT 06"
   ]
  },
  {
   "cell_type": "markdown",
   "id": "35f49d83",
   "metadata": {},
   "source": [
    "## 1.What are Escape characters ? and how do you use them ?"
   ]
  },
  {
   "cell_type": "code",
   "execution_count": null,
   "id": "374e8c06",
   "metadata": {},
   "outputs": [],
   "source": [
    "Escape characters represent characters in string values that would otherwise be difficult or impossible to type into code. we can use the backslash character to escape a single character or symbol\n",
    "example: \\t, \\n"
   ]
  },
  {
   "cell_type": "markdown",
   "id": "65220049",
   "metadata": {},
   "source": [
    "## 2.What do the escape characters n and t stand for ?"
   ]
  },
  {
   "cell_type": "code",
   "execution_count": null,
   "id": "371fa615",
   "metadata": {},
   "outputs": [],
   "source": [
    "\\n is a newline, \\t is a tab"
   ]
  },
  {
   "cell_type": "markdown",
   "id": "288e9811",
   "metadata": {},
   "source": [
    "## 3.What is the way to include backslash character in a string?"
   ]
  },
  {
   "cell_type": "code",
   "execution_count": null,
   "id": "25db71c1",
   "metadata": {},
   "outputs": [],
   "source": [
    "The \\\\ escape character will represent the backslash character in a string"
   ]
  },
  {
   "cell_type": "markdown",
   "id": "d3633790",
   "metadata": {},
   "source": [
    "## 4.The string \"Howl's Moving Castle\" is a correct value. Why isn't the single quote character in the word Howl's not escaped a problem ?"
   ]
  },
  {
   "cell_type": "code",
   "execution_count": null,
   "id": "adf19f08",
   "metadata": {},
   "outputs": [],
   "source": [
    "The string \"Howl's Moving Castle\" escaped the problem because it is wrapped inside double quotes. if its wrapped inside single quotes then we have to use escape character \\' to show single quote in the final output\n",
    "'Howl\\'s Moving Castle' -> 'Howl's Moving Castle'"
   ]
  },
  {
   "cell_type": "markdown",
   "id": "9a849722",
   "metadata": {},
   "source": [
    "## 5.How do you write a string of newlines if you don't want to use the n character?"
   ]
  },
  {
   "cell_type": "raw",
   "id": "09f6af80",
   "metadata": {},
   "source": [
    "Multiline string allow you to use newlines in string without the \\n escape character"
   ]
  },
  {
   "cell_type": "code",
   "execution_count": 1,
   "id": "2b4cf547",
   "metadata": {},
   "outputs": [
    {
     "name": "stdout",
     "output_type": "stream",
     "text": [
      "iNeuron full stack\n",
      "Data Science Course\n"
     ]
    }
   ],
   "source": [
    "# Example:\n",
    "a = '''iNeuron full stack\n",
    "Data Science Course'''\n",
    "print(a)"
   ]
  },
  {
   "cell_type": "markdown",
   "id": "206653a2",
   "metadata": {},
   "source": [
    "## 6.What are the values of the given expressions ?"
   ]
  },
  {
   "cell_type": "code",
   "execution_count": null,
   "id": "440e0ff2",
   "metadata": {},
   "outputs": [],
   "source": [
    "'Hello, world!'[1]\n",
    "'Hello, world!'[0:5]\n",
    "'Hello, world!'[:5]\n",
    "'Hello, world!'[3:]"
   ]
  },
  {
   "cell_type": "code",
   "execution_count": null,
   "id": "f8b83c36",
   "metadata": {},
   "outputs": [],
   "source": [
    " The values for the given expressions are:\n",
    "'Hello, world!'[1] -> 'e'\n",
    "'Hello, world!'[0:5] -> 'Hello'\n",
    "'Hello, world!'[:5] -> 'Hello'\n",
    "'Hello, world!'[3:] -> 'lo, world!'"
   ]
  },
  {
   "cell_type": "markdown",
   "id": "14371f9c",
   "metadata": {},
   "source": [
    "## 7.What are the values of the following expressions ?"
   ]
  },
  {
   "cell_type": "code",
   "execution_count": null,
   "id": "0c91b43a",
   "metadata": {},
   "outputs": [],
   "source": [
    "'Hello'.upper()\n",
    "'Hello'.upper().isupper()\n",
    "'Hello'.upper().lower()"
   ]
  },
  {
   "cell_type": "code",
   "execution_count": null,
   "id": "a06be472",
   "metadata": {},
   "outputs": [],
   "source": [
    "The values for the given expressions are:\n",
    "'Hello'.upper() -> 'HELLO'\n",
    "'Hello'.upper().isupper() -> True\n",
    "'Hello'.upper().lower() -> 'hello'"
   ]
  },
  {
   "cell_type": "markdown",
   "id": "6138e0d6",
   "metadata": {},
   "source": [
    "## 8.What are the values of the following expressions ?"
   ]
  },
  {
   "cell_type": "code",
   "execution_count": null,
   "id": "940c58d5",
   "metadata": {},
   "outputs": [],
   "source": [
    "'Remember, remember, the fifith of July.'.split()\n",
    "-'.join('There can only one'.split())"
   ]
  },
  {
   "cell_type": "code",
   "execution_count": null,
   "id": "009d28aa",
   "metadata": {},
   "outputs": [],
   "source": [
    " The values for the given expressions are:\n",
    "'Remember, remember, the fifith of July.'.split() -> ['Remember,', 'remember,', 'the', 'fifith', 'of', 'July.']\n",
    "'-'.join('There can only one'.split()) -> 'There-can-only-one'"
   ]
  },
  {
   "cell_type": "markdown",
   "id": "1f15efaa",
   "metadata": {},
   "source": [
    "## 9.What are the methods for right-justifying, left-justifying and centering a string ?"
   ]
  },
  {
   "cell_type": "code",
   "execution_count": null,
   "id": "c983ff4c",
   "metadata": {},
   "outputs": [],
   "source": [
    " The rjust(),ljust(),center() string methods, respectively"
   ]
  },
  {
   "cell_type": "markdown",
   "id": "f2e65223",
   "metadata": {},
   "source": [
    "## 10.What is the best way to remove whitespace characters from the start or end ?"
   ]
  },
  {
   "cell_type": "code",
   "execution_count": null,
   "id": "01b17a7f",
   "metadata": {},
   "outputs": [],
   "source": [
    "The lstrip() and rstrip() methods remove whitesapce characters from the left and right ends of a string respectively"
   ]
  }
 ],
 "metadata": {
  "kernelspec": {
   "display_name": "Python 3 (ipykernel)",
   "language": "python",
   "name": "python3"
  },
  "language_info": {
   "codemirror_mode": {
    "name": "ipython",
    "version": 3
   },
   "file_extension": ".py",
   "mimetype": "text/x-python",
   "name": "python",
   "nbconvert_exporter": "python",
   "pygments_lexer": "ipython3",
   "version": "3.9.7"
  }
 },
 "nbformat": 4,
 "nbformat_minor": 5
}
