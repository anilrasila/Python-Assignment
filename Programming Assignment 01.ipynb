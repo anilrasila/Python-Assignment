{
 "cells": [
  {
   "cell_type": "markdown",
   "id": "5efb51a6",
   "metadata": {},
   "source": [
    "# Programming Assignment 01:"
   ]
  },
  {
   "cell_type": "markdown",
   "id": "bf820895",
   "metadata": {},
   "source": [
    "## 1.Write a Python program to print \"Hello Python\"?"
   ]
  },
  {
   "cell_type": "code",
   "execution_count": null,
   "id": "921d8359",
   "metadata": {},
   "outputs": [],
   "source": [
    "print(\"Hello Python\")"
   ]
  },
  {
   "cell_type": "markdown",
   "id": "46eac1b2",
   "metadata": {},
   "source": [
    "## 2.Write a Python program to do arithmetical operations addition and division.?"
   ]
  },
  {
   "cell_type": "code",
   "execution_count": 1,
   "id": "3af220a5",
   "metadata": {},
   "outputs": [
    {
     "name": "stdout",
     "output_type": "stream",
     "text": [
      "15\n",
      "2.0\n"
     ]
    }
   ],
   "source": [
    "#Addition:\n",
    "a=5\n",
    "b=10\n",
    "c=a+b\n",
    "print(c)\n",
    "\n",
    "#Division:\n",
    "a=5\n",
    "b=10\n",
    "c=b/a\n",
    "print(c)"
   ]
  },
  {
   "cell_type": "markdown",
   "id": "7c6aee5f",
   "metadata": {},
   "source": [
    "## 3.Write a Python program to find the area of a triangle?"
   ]
  },
  {
   "cell_type": "code",
   "execution_count": 2,
   "id": "0213c99f",
   "metadata": {},
   "outputs": [
    {
     "name": "stdout",
     "output_type": "stream",
     "text": [
      "25.0\n"
     ]
    }
   ],
   "source": [
    "base =5\n",
    "height = 10\n",
    "area = (1/2)*(base*height)\n",
    "print(area)"
   ]
  },
  {
   "cell_type": "markdown",
   "id": "365d5212",
   "metadata": {},
   "source": [
    "## 4.Write a Python program to swap two variables?"
   ]
  },
  {
   "cell_type": "code",
   "execution_count": 3,
   "id": "2cf62655",
   "metadata": {},
   "outputs": [
    {
     "name": "stdout",
     "output_type": "stream",
     "text": [
      "x = 10\n",
      "y = 5\n"
     ]
    }
   ],
   "source": [
    "x = 5\n",
    "y = 10\n",
    "\n",
    "x, y = y, x\n",
    "print(\"x =\", x)\n",
    "print(\"y =\", y)"
   ]
  },
  {
   "cell_type": "markdown",
   "id": "ad83c0bd",
   "metadata": {},
   "source": [
    "## 5.Write a Python program to generate a random number?"
   ]
  },
  {
   "cell_type": "code",
   "execution_count": null,
   "id": "ba18f922",
   "metadata": {},
   "outputs": [],
   "source": [
    "import random\n",
    "num = random.random()\n",
    "print(num)"
   ]
  }
 ],
 "metadata": {
  "kernelspec": {
   "display_name": "Python 3 (ipykernel)",
   "language": "python",
   "name": "python3"
  },
  "language_info": {
   "codemirror_mode": {
    "name": "ipython",
    "version": 3
   },
   "file_extension": ".py",
   "mimetype": "text/x-python",
   "name": "python",
   "nbconvert_exporter": "python",
   "pygments_lexer": "ipython3",
   "version": "3.9.7"
  }
 },
 "nbformat": 4,
 "nbformat_minor": 5
}
