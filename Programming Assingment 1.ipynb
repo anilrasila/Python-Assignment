{
 "cells": [
  {
   "cell_type": "code",
   "execution_count": null,
   "id": "a195ada4",
   "metadata": {},
   "outputs": [],
   "source": [
    "Programming Assingment 1:\n",
    "\n",
    "1.Write a Python program to print \"Hello Python\"?\n",
    "print(\"Hello Python\")\n",
    "\n",
    "2.Write a Python program to do arithmetical operations addition and division.?\n",
    "Addition:\n",
    "a=5\n",
    "b=10\n",
    "c=a+b\n",
    "print(c)\n",
    "\n",
    "Division:\n",
    "a=5\n",
    "b=10\n",
    "c=b/a\n",
    "print(c)\n",
    "\n",
    "3.Write a Python program to find the area of a triangle?\n",
    "base =5\n",
    "height = 10\n",
    "area = (1/2)*(base*height)\n",
    "print(area)\n",
    "\n",
    "\n",
    "4.Write a Python program to swap two variables?\n",
    "x = 5\n",
    "y = 10\n",
    "\n",
    "x, y = y, x\n",
    "print(\"x =\", x)\n",
    "print(\"y =\", y)\n",
    "\n",
    "5.Write a Python program to generate a random number?\n",
    "import random\n",
    "num = random.random()\n",
    "print(num)"
   ]
  }
 ],
 "metadata": {
  "kernelspec": {
   "display_name": "Python 3 (ipykernel)",
   "language": "python",
   "name": "python3"
  },
  "language_info": {
   "codemirror_mode": {
    "name": "ipython",
    "version": 3
   },
   "file_extension": ".py",
   "mimetype": "text/x-python",
   "name": "python",
   "nbconvert_exporter": "python",
   "pygments_lexer": "ipython3",
   "version": "3.9.7"
  }
 },
 "nbformat": 4,
 "nbformat_minor": 5
}
