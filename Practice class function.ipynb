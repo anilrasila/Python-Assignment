{
 "cells": [
  {
   "cell_type": "code",
   "execution_count": 1,
   "id": "5efc4bba",
   "metadata": {},
   "outputs": [
    {
     "data": {
      "text/plain": [
       "'Dps'"
      ]
     },
     "execution_count": 1,
     "metadata": {},
     "output_type": "execute_result"
    }
   ],
   "source": [
    "class Student:\n",
    "    school = \"Dps\"\n",
    "a = Student()\n",
    "a.school"
   ]
  },
  {
   "cell_type": "code",
   "execution_count": 2,
   "id": "2b928350",
   "metadata": {},
   "outputs": [],
   "source": [
    "class Employee:\n",
    "    company = \"google\"\n",
    "    post = \"dsa\"\n",
    "    salary = 10000\n",
    "anil = Employee()\n",
    "harry = Employee()\n",
    "harry.salary = 500\n",
    "anil.company=\"youtube\"\n",
    "\n"
   ]
  },
  {
   "cell_type": "code",
   "execution_count": 3,
   "id": "0e919a59",
   "metadata": {},
   "outputs": [
    {
     "name": "stdout",
     "output_type": "stream",
     "text": [
      "500\n"
     ]
    }
   ],
   "source": [
    "print(harry.salary)"
   ]
  },
  {
   "cell_type": "code",
   "execution_count": 7,
   "id": "c5a10a2b",
   "metadata": {},
   "outputs": [],
   "source": [
    "class Student:\n",
    "    def __init__(self,name,std,rollno,marks,grade):\n",
    "        self.name=name\n",
    "        self.std=std\n",
    "        self.rollno=rollno\n",
    "        self.marks=marks\n",
    "        self.grade=grade\n",
    "        \n",
    "    def get_detail(self):\n",
    "        print(self.name,self.std,self.rollno,self.marks,self.grade)\n",
    "    "
   ]
  },
  {
   "cell_type": "code",
   "execution_count": 14,
   "id": "de7a8569",
   "metadata": {},
   "outputs": [
    {
     "name": "stdout",
     "output_type": "stream",
     "text": [
      "anil 5th 09 400 A\n"
     ]
    }
   ],
   "source": [
    "a = Student(\"anil\",\"5th\",\"09\",\"400\",\"A\")\n",
    "a.get_detail()"
   ]
  },
  {
   "cell_type": "code",
   "execution_count": null,
   "id": "ca0dbf84",
   "metadata": {},
   "outputs": [],
   "source": []
  }
 ],
 "metadata": {
  "kernelspec": {
   "display_name": "Python 3 (ipykernel)",
   "language": "python",
   "name": "python3"
  },
  "language_info": {
   "codemirror_mode": {
    "name": "ipython",
    "version": 3
   },
   "file_extension": ".py",
   "mimetype": "text/x-python",
   "name": "python",
   "nbconvert_exporter": "python",
   "pygments_lexer": "ipython3",
   "version": "3.9.7"
  }
 },
 "nbformat": 4,
 "nbformat_minor": 5
}
