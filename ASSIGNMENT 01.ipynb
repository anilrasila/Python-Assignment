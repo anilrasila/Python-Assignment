{
 "cells": [
  {
   "cell_type": "markdown",
   "id": "ee604743",
   "metadata": {},
   "source": [
    "# ASSIGNMENT 01"
   ]
  },
  {
   "cell_type": "markdown",
   "id": "9b610b5a",
   "metadata": {},
   "source": [
    "## 1. In the below elements which of them are values or an expression? eg:- values can be integer or string and expressions will be mathematical operators."
   ]
  },
  {
   "cell_type": "code",
   "execution_count": null,
   "id": "25f814af",
   "metadata": {},
   "outputs": [],
   "source": [
    "*       -----  Expression\n",
    "'hello' -----  Values\n",
    "-87.8   -----  Values\n",
    "-       -----  Expression\n",
    "/       -----  Expression\n",
    "+       -----  Expression\n",
    "6       -----  Values"
   ]
  },
  {
   "cell_type": "markdown",
   "id": "2f040118",
   "metadata": {},
   "source": [
    "## 2.What is the difference between string and variable? A Variable is a store of information, and a String is a type of information you would store in a Variable."
   ]
  },
  {
   "cell_type": "code",
   "execution_count": null,
   "id": "8d9febc8",
   "metadata": {},
   "outputs": [],
   "source": [
    "A Variable is a store of information, and a String is a type of information you would store in a Variable.\n",
    "ex:\n",
    "variable = A \n",
    "& string ='anil'\n"
   ]
  },
  {
   "cell_type": "markdown",
   "id": "e4293da8",
   "metadata": {},
   "source": [
    "## 3. Describe three different data types?"
   ]
  },
  {
   "cell_type": "code",
   "execution_count": null,
   "id": "6f53f66c",
   "metadata": {},
   "outputs": [],
   "source": [
    "Integer: Whole numbers , can be from -a to +a. Ex -1,-4,10,500 etc\n",
    "Float: the numbers which are in decimals.Ex=1.5, 5.0005 etc\n",
    "Boolean: Boolean datatype contain True or False"
   ]
  },
  {
   "cell_type": "markdown",
   "id": "08a82ba7",
   "metadata": {},
   "source": [
    "## 4. What is an expression made up of? What do all expressions do?"
   ]
  },
  {
   "cell_type": "code",
   "execution_count": null,
   "id": "5a41002d",
   "metadata": {},
   "outputs": [],
   "source": [
    "An expression is a combination of operators and operands that is interpreted to produce some other value.\n",
    "In any programming language, an expression is evaluated as per the precedence of its operators."
   ]
  },
  {
   "cell_type": "markdown",
   "id": "7ac40334",
   "metadata": {},
   "source": [
    "## 5. This assignment statements, like spam = 10. What is the difference between an expression and a statement?"
   ]
  },
  {
   "cell_type": "code",
   "execution_count": null,
   "id": "e9accdf4",
   "metadata": {},
   "outputs": [],
   "source": [
    "An expression evaluates to a single value. A statement does not."
   ]
  },
  {
   "cell_type": "markdown",
   "id": "39fe6517",
   "metadata": {},
   "source": [
    "## 6. After running the following code, what does the variable bacon contain?"
   ]
  },
  {
   "cell_type": "code",
   "execution_count": 5,
   "id": "51d0a415",
   "metadata": {},
   "outputs": [
    {
     "data": {
      "text/plain": [
       "23"
      ]
     },
     "execution_count": 5,
     "metadata": {},
     "output_type": "execute_result"
    }
   ],
   "source": [
    "bacon = 22\n",
    "bacon + 1"
   ]
  },
  {
   "cell_type": "markdown",
   "id": "447f1444",
   "metadata": {},
   "source": [
    "## 7. What should the values of the following two terms be?"
   ]
  },
  {
   "cell_type": "code",
   "execution_count": 8,
   "id": "38f8ae5c",
   "metadata": {},
   "outputs": [
    {
     "data": {
      "text/plain": [
       "'spamspamspam'"
      ]
     },
     "execution_count": 8,
     "metadata": {},
     "output_type": "execute_result"
    }
   ],
   "source": [
    "'spam' +'spamspam'\n",
    "'spam' * 3"
   ]
  },
  {
   "cell_type": "markdown",
   "id": "159a6044",
   "metadata": {},
   "source": [
    "## 8. Why is eggs a valid variable name while 100 is invalid?"
   ]
  },
  {
   "cell_type": "code",
   "execution_count": null,
   "id": "a0032ac6",
   "metadata": {},
   "outputs": [],
   "source": [
    "Because variable names cannot begin with a number."
   ]
  },
  {
   "cell_type": "markdown",
   "id": "080d9c03",
   "metadata": {},
   "source": [
    "## 9. What three functions can be used to get the integer, floating-point number, or string version of a value?"
   ]
  },
  {
   "cell_type": "code",
   "execution_count": null,
   "id": "a9ce5b1e",
   "metadata": {},
   "outputs": [],
   "source": [
    "int() \n",
    "float()\n",
    "and str( ) "
   ]
  },
  {
   "cell_type": "markdown",
   "id": "de86ed9c",
   "metadata": {},
   "source": [
    "## 10. Why does this expression cause an error? How can you fix it?\n",
    "'I have eaten' + 99 + 'burritos'."
   ]
  },
  {
   "cell_type": "code",
   "execution_count": 11,
   "id": "9a02e053",
   "metadata": {},
   "outputs": [
    {
     "data": {
      "text/plain": [
       "'I have eaten99burritos'"
      ]
     },
     "execution_count": 11,
     "metadata": {},
     "output_type": "execute_result"
    }
   ],
   "source": [
    "#Because It can only concatenate str. \n",
    "#So, We have to make 99 as a string (i.e ='99')\n",
    "'I have eaten' + '99' + 'burritos'"
   ]
  },
  {
   "cell_type": "code",
   "execution_count": null,
   "id": "db23da29",
   "metadata": {},
   "outputs": [],
   "source": []
  }
 ],
 "metadata": {
  "kernelspec": {
   "display_name": "Python 3 (ipykernel)",
   "language": "python",
   "name": "python3"
  },
  "language_info": {
   "codemirror_mode": {
    "name": "ipython",
    "version": 3
   },
   "file_extension": ".py",
   "mimetype": "text/x-python",
   "name": "python",
   "nbconvert_exporter": "python",
   "pygments_lexer": "ipython3",
   "version": "3.9.7"
  }
 },
 "nbformat": 4,
 "nbformat_minor": 5
}
